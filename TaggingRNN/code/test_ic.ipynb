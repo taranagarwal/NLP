{
 "cells": [
  {
   "cell_type": "code",
   "execution_count": 1,
   "metadata": {},
   "outputs": [
    {
     "name": "stdout",
     "output_type": "stream",
     "text": [
      "/usr/local/bin/bash: line 1: fg: no job control\n",
      "/usr/local/bin/bash: line 1: fg: no job control\n"
     ]
    }
   ],
   "source": [
    "#!/usr/bin/env python3\n",
    "!%load_ext autoreload %autoreload 2\n",
    "!%precision %.8f"
   ]
  },
  {
   "cell_type": "markdown",
   "metadata": {},
   "source": [
    "This file illustrates how you might experiment with the HMM interface.\n",
    "You can paste these commands in at the Python prompt, or execute `test_ic.py` directly.\n",
    "A notebook interface is nicer than the plain Python prompt, so we provide\n",
    "a notebook version of this file as `test_ic.ipynb`, which you can open with\n",
    "`jupyter` or with Visual Studio `code` (run it with the `nlp-class` kernel)."
   ]
  },
  {
   "cell_type": "code",
   "execution_count": 2,
   "metadata": {},
   "outputs": [],
   "source": [
    "import logging, math, os\n",
    "from pathlib import Path"
   ]
  },
  {
   "cell_type": "code",
   "execution_count": 3,
   "metadata": {},
   "outputs": [],
   "source": [
    "import torch\n",
    "from torch import tensor"
   ]
  },
  {
   "cell_type": "code",
   "execution_count": 4,
   "metadata": {},
   "outputs": [],
   "source": [
    "from corpus import TaggedCorpus\n",
    "from eval import model_cross_entropy, write_tagging\n",
    "from hmm import HiddenMarkovModel\n",
    "from crf import ConditionalRandomField\n",
    "from crf_backprop import ConditionalRandomFieldBackprop"
   ]
  },
  {
   "cell_type": "markdown",
   "metadata": {},
   "source": [
    "Set up logging."
   ]
  },
  {
   "cell_type": "code",
   "execution_count": 5,
   "metadata": {},
   "outputs": [],
   "source": [
    "log = logging.getLogger(\"test_ic\")       # For usage, see findsim.py in earlier assignment.\n",
    "logging.root.setLevel(level=logging.INFO)\n",
    "logging.basicConfig(level=logging.INFO)  # could change INFO to DEBUG\n",
    "# torch.autograd.set_detect_anomaly(True)    # uncomment to improve error messages from .backward(), but slows down"
   ]
  },
  {
   "cell_type": "markdown",
   "metadata": {},
   "source": [
    "Switch working directory to the directory where the data live.  You may want to edit this line."
   ]
  },
  {
   "cell_type": "code",
   "execution_count": 6,
   "metadata": {},
   "outputs": [],
   "source": [
    "os.chdir(\"../data\")"
   ]
  },
  {
   "cell_type": "markdown",
   "metadata": {},
   "source": [
    "Get vocabulary and tagset from a supervised corpus."
   ]
  },
  {
   "cell_type": "code",
   "execution_count": 7,
   "metadata": {},
   "outputs": [
    {
     "name": "stderr",
     "output_type": "stream",
     "text": [
      "INFO:corpus:Read 40 tokens from icsup\n",
      "INFO:corpus:Created 4 tag types\n",
      "INFO:corpus:Created 5 word types\n",
      "INFO:test_ic:Ice cream vocabulary: ['1', '2', '3', '_EOS_WORD_', '_BOS_WORD_']\n",
      "INFO:test_ic:Ice cream tagset: ['C', 'H', '_EOS_TAG_', '_BOS_TAG_']\n"
     ]
    }
   ],
   "source": [
    "icsup = TaggedCorpus(Path(\"icsup\"), add_oov=False)\n",
    "log.info(f\"Ice cream vocabulary: {list(icsup.vocab)}\")\n",
    "log.info(f\"Ice cream tagset: {list(icsup.tagset)}\")"
   ]
  },
  {
   "cell_type": "markdown",
   "metadata": {},
   "source": [
    "Two ways to look at the corpus ..."
   ]
  },
  {
   "cell_type": "code",
   "execution_count": 8,
   "metadata": {},
   "outputs": [
    {
     "name": "stdout",
     "output_type": "stream",
     "text": [
      "1/C 1/C 1/C 1/C 1/C 1/C 1/C 2/C 2/C 3/H\n",
      "1/H 2/H 2/H 3/H 3/H 3/H 3/H 3/H 3/H 3/C\n",
      "1/C 1/C 1/C 1/C 1/C 1/C 1/C 2/C 2/C 3/H\n",
      "1/H 2/H 2/H 3/H 3/H 3/H 3/H 3/H 3/H 3/C\n"
     ]
    },
    {
     "data": {
      "text/plain": [
       "0"
      ]
     },
     "execution_count": 8,
     "metadata": {},
     "output_type": "execute_result"
    }
   ],
   "source": [
    "os.system(\"cat icsup\")   # call the shell to look at the file directly"
   ]
  },
  {
   "cell_type": "code",
   "execution_count": 9,
   "metadata": {},
   "outputs": [
    {
     "name": "stderr",
     "output_type": "stream",
     "text": [
      "INFO:test_ic:1/C 1/C 1/C 1/C 1/C 1/C 1/C 2/C 2/C 3/H\n",
      "1/H 2/H 2/H 3/H 3/H 3/H 3/H 3/H 3/H 3/C\n",
      "1/C 1/C 1/C 1/C 1/C 1/C 1/C 2/C 2/C 3/H\n",
      "1/H 2/H 2/H 3/H 3/H 3/H 3/H 3/H 3/H 3/C\n"
     ]
    }
   ],
   "source": [
    "log.info(icsup)          # print the TaggedCorpus python object we constructed from it"
   ]
  },
  {
   "cell_type": "markdown",
   "metadata": {},
   "source": [
    "Make an HMM."
   ]
  },
  {
   "cell_type": "code",
   "execution_count": 10,
   "metadata": {},
   "outputs": [
    {
     "name": "stderr",
     "output_type": "stream",
     "text": [
      "INFO:test_ic:*** Conditional Random Field (CRF) test\n",
      "\n",
      "INFO:crf_backprop:Parameters: 28 = 4*3 + 4*4\n",
      "INFO:test_ic:*** Current A, B matrices (potentials from small random parameters)\n"
     ]
    },
    {
     "name": "stdout",
     "output_type": "stream",
     "text": [
      "Transition matrix A:\n",
      "\tC\tH\t_EOS_TAG_\t_BOS_TAG_\n",
      "C\t1.001\t1.008\t1.009\t1.002\n",
      "H\t1.006\t1.007\t1.005\t1.004\n",
      "_EOS_TAG_\t1.009\t1.004\t1.009\t1.010\n",
      "_BOS_TAG_\t1.000\t1.007\t1.008\t1.010\n",
      "\n",
      "Emission matrix B:\n",
      "\t1\t2\t3\n",
      "C\t1.001\t1.005\t1.006\n",
      "H\t1.004\t1.002\t1.000\n",
      "_EOS_TAG_\t1.006\t1.007\t1.002\n",
      "_BOS_TAG_\t1.003\t1.007\t1.006\n",
      "\n",
      "\n"
     ]
    }
   ],
   "source": [
    "log.info(\"*** Conditional Random Field (CRF) test\\n\")\n",
    "crf_backprop = ConditionalRandomFieldBackprop(icsup.tagset, icsup.vocab)\n",
    "log.info(\"*** Current A, B matrices (potentials from small random parameters)\")\n",
    "crf_backprop.printAB()"
   ]
  },
  {
   "cell_type": "code",
   "execution_count": 11,
   "metadata": {},
   "outputs": [
    {
     "name": "stderr",
     "output_type": "stream",
     "text": [
      "INFO:test_ic:*** Supervised training on icsup\n",
      "100%|██████████| 4/4 [00:00<00:00, 33.66it/s]\n",
      "INFO:eval:Cross-entropy: 1.2642 nats (= perplexity 3.540)\n",
      "100%|██████████| 500/500 [00:06<00:00, 74.59it/s]\n",
      "INFO:crf:Average learning speed: 0.49 (estimated training loss reduction per example)\n",
      "100%|██████████| 4/4 [00:00<00:00, 103.71it/s]\n",
      "INFO:eval:Cross-entropy: 0.2072 nats (= perplexity 1.230)\n",
      "100%|██████████| 500/500 [00:06<00:00, 77.51it/s]\n",
      "INFO:crf:Average learning speed: 0.4 (estimated training loss reduction per example)\n",
      "100%|██████████| 4/4 [00:00<00:00, 106.03it/s]\n",
      "INFO:eval:Cross-entropy: 0.2056 nats (= perplexity 1.228)\n",
      " 27%|██▋       | 137/500 [00:01<00:04, 78.03it/s]\n"
     ]
    },
    {
     "ename": "KeyboardInterrupt",
     "evalue": "",
     "output_type": "error",
     "traceback": [
      "\u001b[0;31m---------------------------------------------------------------------------\u001b[0m",
      "\u001b[0;31mKeyboardInterrupt\u001b[0m                         Traceback (most recent call last)",
      "Cell \u001b[0;32mIn[11], line 3\u001b[0m\n\u001b[1;32m      1\u001b[0m log\u001b[38;5;241m.\u001b[39minfo(\u001b[38;5;124m\"\u001b[39m\u001b[38;5;124m*** Supervised training on icsup\u001b[39m\u001b[38;5;124m\"\u001b[39m)\n\u001b[1;32m      2\u001b[0m cross_entropy_loss \u001b[38;5;241m=\u001b[39m \u001b[38;5;28;01mlambda\u001b[39;00m model: model_cross_entropy(model, icsup)\n\u001b[0;32m----> 3\u001b[0m \u001b[43mcrf_backprop\u001b[49m\u001b[38;5;241;43m.\u001b[39;49m\u001b[43mtrain\u001b[49m\u001b[43m(\u001b[49m\u001b[43mcorpus\u001b[49m\u001b[38;5;241;43m=\u001b[39;49m\u001b[43micsup\u001b[49m\u001b[43m,\u001b[49m\u001b[43m \u001b[49m\u001b[43mloss\u001b[49m\u001b[38;5;241;43m=\u001b[39;49m\u001b[43mcross_entropy_loss\u001b[49m\u001b[43m,\u001b[49m\u001b[43m \u001b[49m\u001b[43mlr\u001b[49m\u001b[38;5;241;43m=\u001b[39;49m\u001b[38;5;241;43m0.1\u001b[39;49m\u001b[43m,\u001b[49m\u001b[43m \u001b[49m\u001b[43mtolerance\u001b[49m\u001b[38;5;241;43m=\u001b[39;49m\u001b[38;5;241;43m0.0001\u001b[39;49m\u001b[43m,\u001b[49m\u001b[43m \u001b[49m\u001b[43msave_path\u001b[49m\u001b[38;5;241;43m=\u001b[39;49m\u001b[38;5;124;43m\"\u001b[39;49m\u001b[38;5;124;43mic_crf_backprop.pkl\u001b[39;49m\u001b[38;5;124;43m\"\u001b[39;49m\u001b[43m)\u001b[49m\n\u001b[1;32m      4\u001b[0m log\u001b[38;5;241m.\u001b[39minfo(\u001b[38;5;124m\"\u001b[39m\u001b[38;5;124m*** A, B matrices after training on icsup\u001b[39m\u001b[38;5;124m\"\u001b[39m)\n\u001b[1;32m      5\u001b[0m crf_backprop\u001b[38;5;241m.\u001b[39mprintAB()\n",
      "File \u001b[0;32m~/nlp/nlp-hw7/code/crf_backprop.py:132\u001b[0m, in \u001b[0;36mConditionalRandomFieldBackprop.train\u001b[0;34m(self, corpus, minibatch_size, lr, reg, *args, **kwargs)\u001b[0m\n\u001b[1;32m    127\u001b[0m \u001b[38;5;66;03m# Now just call the parent method with exactly the same arguments.  The parent\u001b[39;00m\n\u001b[1;32m    128\u001b[0m \u001b[38;5;66;03m# method will train exactly as before (you should probably review it) --\u001b[39;00m\n\u001b[1;32m    129\u001b[0m \u001b[38;5;66;03m# except that it will call methods that you will override below. Your\u001b[39;00m\n\u001b[1;32m    130\u001b[0m \u001b[38;5;66;03m# overridden versions can use the optimizer that we just created.\u001b[39;00m\n\u001b[1;32m    131\u001b[0m start_time \u001b[38;5;241m=\u001b[39m time\u001b[38;5;241m.\u001b[39mtime()\n\u001b[0;32m--> 132\u001b[0m \u001b[38;5;28;43msuper\u001b[39;49m\u001b[43m(\u001b[49m\u001b[43m)\u001b[49m\u001b[38;5;241;43m.\u001b[39;49m\u001b[43mtrain\u001b[49m\u001b[43m(\u001b[49m\u001b[43mcorpus\u001b[49m\u001b[43m,\u001b[49m\u001b[43m \u001b[49m\u001b[38;5;241;43m*\u001b[39;49m\u001b[43margs\u001b[49m\u001b[43m,\u001b[49m\u001b[43m \u001b[49m\u001b[43mminibatch_size\u001b[49m\u001b[38;5;241;43m=\u001b[39;49m\u001b[43mminibatch_size\u001b[49m\u001b[43m,\u001b[49m\u001b[43m \u001b[49m\u001b[43mlr\u001b[49m\u001b[38;5;241;43m=\u001b[39;49m\u001b[43mlr\u001b[49m\u001b[43m,\u001b[49m\u001b[43m \u001b[49m\u001b[43mreg\u001b[49m\u001b[38;5;241;43m=\u001b[39;49m\u001b[43mreg\u001b[49m\u001b[43m,\u001b[49m\u001b[43m \u001b[49m\u001b[38;5;241;43m*\u001b[39;49m\u001b[38;5;241;43m*\u001b[39;49m\u001b[43mkwargs\u001b[49m\u001b[43m)\u001b[49m\n\u001b[1;32m    134\u001b[0m \u001b[38;5;66;03m# Let's also track how long training takes.  This really belongs in the main\u001b[39;00m\n\u001b[1;32m    135\u001b[0m \u001b[38;5;66;03m# train() methods, but we didn't think to put it in the HW6 starter\u001b[39;00m\n\u001b[1;32m    136\u001b[0m \u001b[38;5;66;03m# code, so for this year we'll just add it here.\u001b[39;00m\n\u001b[1;32m    137\u001b[0m \u001b[38;5;28mself\u001b[39m\u001b[38;5;241m.\u001b[39mtotal_training_time \u001b[38;5;241m=\u001b[39m \u001b[38;5;28mgetattr\u001b[39m(\u001b[38;5;28mself\u001b[39m,\u001b[38;5;124m\"\u001b[39m\u001b[38;5;124mtotal_training_time\u001b[39m\u001b[38;5;124m\"\u001b[39m,\u001b[38;5;241m0\u001b[39m) \u001b[38;5;241m+\u001b[39m (time\u001b[38;5;241m.\u001b[39mtime() \u001b[38;5;241m-\u001b[39m start_time)\n",
      "File \u001b[0;32m~/nlp/nlp-hw7/code/crf.py:169\u001b[0m, in \u001b[0;36mConditionalRandomField.train\u001b[0;34m(self, corpus, loss, tolerance, minibatch_size, eval_interval, lr, reg, max_steps, save_path)\u001b[0m\n\u001b[1;32m    164\u001b[0m steps \u001b[38;5;241m+\u001b[39m\u001b[38;5;241m=\u001b[39m \u001b[38;5;241m1\u001b[39m\n\u001b[1;32m    166\u001b[0m \u001b[38;5;28;01mif\u001b[39;00m steps \u001b[38;5;241m%\u001b[39m minibatch_size \u001b[38;5;241m==\u001b[39m \u001b[38;5;241m0\u001b[39m:              \n\u001b[1;32m    167\u001b[0m     \u001b[38;5;66;03m# Time to update params based on the accumulated \u001b[39;00m\n\u001b[1;32m    168\u001b[0m     \u001b[38;5;66;03m# minibatch gradient and regularizer.\u001b[39;00m\n\u001b[0;32m--> 169\u001b[0m     \u001b[38;5;28;43mself\u001b[39;49m\u001b[38;5;241;43m.\u001b[39;49m\u001b[43mlogprob_gradient_step\u001b[49m\u001b[43m(\u001b[49m\u001b[43mlr\u001b[49m\u001b[43m)\u001b[49m\n\u001b[1;32m    170\u001b[0m     \u001b[38;5;28mself\u001b[39m\u001b[38;5;241m.\u001b[39mreg_gradient_step(lr, reg, minibatch_size \u001b[38;5;241m/\u001b[39m \u001b[38;5;28mlen\u001b[39m(corpus))\n\u001b[1;32m    171\u001b[0m     learning_speeds\u001b[38;5;241m.\u001b[39mappend(\u001b[38;5;28mself\u001b[39m\u001b[38;5;241m.\u001b[39mlearning_speed(lr, minibatch_size))  \u001b[38;5;66;03m# add this minibatch's learning speed to list\u001b[39;00m\n",
      "File \u001b[0;32m~/nlp/nlp-hw7/code/crf_backprop.py:171\u001b[0m, in \u001b[0;36mConditionalRandomFieldBackprop.logprob_gradient_step\u001b[0;34m(self, lr)\u001b[0m\n\u001b[1;32m    164\u001b[0m \u001b[38;5;129m@override\u001b[39m\n\u001b[1;32m    165\u001b[0m \u001b[38;5;28;01mdef\u001b[39;00m \u001b[38;5;21mlogprob_gradient_step\u001b[39m(\u001b[38;5;28mself\u001b[39m, lr: \u001b[38;5;28mfloat\u001b[39m) \u001b[38;5;241m-\u001b[39m\u001b[38;5;241m>\u001b[39m \u001b[38;5;28;01mNone\u001b[39;00m:\n\u001b[1;32m    166\u001b[0m     \u001b[38;5;66;03m# [docstring will be inherited from parent method]\u001b[39;00m\n\u001b[0;32m   (...)\u001b[0m\n\u001b[1;32m    169\u001b[0m     \u001b[38;5;66;03m# Basically, you want to take a step in the direction\u001b[39;00m\n\u001b[1;32m    170\u001b[0m     \u001b[38;5;66;03m# of the accumulated gradient.\u001b[39;00m\n\u001b[0;32m--> 171\u001b[0m     \u001b[38;5;28;43mself\u001b[39;49m\u001b[38;5;241;43m.\u001b[39;49m\u001b[43mminibatch_loss\u001b[49m\u001b[38;5;241;43m.\u001b[39;49m\u001b[43mbackward\u001b[49m\u001b[43m(\u001b[49m\u001b[43m)\u001b[49m\n\u001b[1;32m    172\u001b[0m     \u001b[38;5;28mself\u001b[39m\u001b[38;5;241m.\u001b[39moptimizer\u001b[38;5;241m.\u001b[39mstep()\n",
      "File \u001b[0;32m/etc/conda/envs/nlp-class/lib/python3.9/site-packages/torch/_tensor.py:487\u001b[0m, in \u001b[0;36mTensor.backward\u001b[0;34m(self, gradient, retain_graph, create_graph, inputs)\u001b[0m\n\u001b[1;32m    477\u001b[0m \u001b[38;5;28;01mif\u001b[39;00m has_torch_function_unary(\u001b[38;5;28mself\u001b[39m):\n\u001b[1;32m    478\u001b[0m     \u001b[38;5;28;01mreturn\u001b[39;00m handle_torch_function(\n\u001b[1;32m    479\u001b[0m         Tensor\u001b[38;5;241m.\u001b[39mbackward,\n\u001b[1;32m    480\u001b[0m         (\u001b[38;5;28mself\u001b[39m,),\n\u001b[0;32m   (...)\u001b[0m\n\u001b[1;32m    485\u001b[0m         inputs\u001b[38;5;241m=\u001b[39minputs,\n\u001b[1;32m    486\u001b[0m     )\n\u001b[0;32m--> 487\u001b[0m \u001b[43mtorch\u001b[49m\u001b[38;5;241;43m.\u001b[39;49m\u001b[43mautograd\u001b[49m\u001b[38;5;241;43m.\u001b[39;49m\u001b[43mbackward\u001b[49m\u001b[43m(\u001b[49m\n\u001b[1;32m    488\u001b[0m \u001b[43m    \u001b[49m\u001b[38;5;28;43mself\u001b[39;49m\u001b[43m,\u001b[49m\u001b[43m \u001b[49m\u001b[43mgradient\u001b[49m\u001b[43m,\u001b[49m\u001b[43m \u001b[49m\u001b[43mretain_graph\u001b[49m\u001b[43m,\u001b[49m\u001b[43m \u001b[49m\u001b[43mcreate_graph\u001b[49m\u001b[43m,\u001b[49m\u001b[43m \u001b[49m\u001b[43minputs\u001b[49m\u001b[38;5;241;43m=\u001b[39;49m\u001b[43minputs\u001b[49m\n\u001b[1;32m    489\u001b[0m \u001b[43m\u001b[49m\u001b[43m)\u001b[49m\n",
      "File \u001b[0;32m/etc/conda/envs/nlp-class/lib/python3.9/site-packages/torch/autograd/__init__.py:200\u001b[0m, in \u001b[0;36mbackward\u001b[0;34m(tensors, grad_tensors, retain_graph, create_graph, grad_variables, inputs)\u001b[0m\n\u001b[1;32m    195\u001b[0m     retain_graph \u001b[38;5;241m=\u001b[39m create_graph\n\u001b[1;32m    197\u001b[0m \u001b[38;5;66;03m# The reason we repeat same the comment below is that\u001b[39;00m\n\u001b[1;32m    198\u001b[0m \u001b[38;5;66;03m# some Python versions print out the first line of a multi-line function\u001b[39;00m\n\u001b[1;32m    199\u001b[0m \u001b[38;5;66;03m# calls in the traceback and some print out the last line\u001b[39;00m\n\u001b[0;32m--> 200\u001b[0m \u001b[43mVariable\u001b[49m\u001b[38;5;241;43m.\u001b[39;49m\u001b[43m_execution_engine\u001b[49m\u001b[38;5;241;43m.\u001b[39;49m\u001b[43mrun_backward\u001b[49m\u001b[43m(\u001b[49m\u001b[43m  \u001b[49m\u001b[38;5;66;43;03m# Calls into the C++ engine to run the backward pass\u001b[39;49;00m\n\u001b[1;32m    201\u001b[0m \u001b[43m    \u001b[49m\u001b[43mtensors\u001b[49m\u001b[43m,\u001b[49m\u001b[43m \u001b[49m\u001b[43mgrad_tensors_\u001b[49m\u001b[43m,\u001b[49m\u001b[43m \u001b[49m\u001b[43mretain_graph\u001b[49m\u001b[43m,\u001b[49m\u001b[43m \u001b[49m\u001b[43mcreate_graph\u001b[49m\u001b[43m,\u001b[49m\u001b[43m \u001b[49m\u001b[43minputs\u001b[49m\u001b[43m,\u001b[49m\n\u001b[1;32m    202\u001b[0m \u001b[43m    \u001b[49m\u001b[43mallow_unreachable\u001b[49m\u001b[38;5;241;43m=\u001b[39;49m\u001b[38;5;28;43;01mTrue\u001b[39;49;00m\u001b[43m,\u001b[49m\u001b[43m \u001b[49m\u001b[43maccumulate_grad\u001b[49m\u001b[38;5;241;43m=\u001b[39;49m\u001b[38;5;28;43;01mTrue\u001b[39;49;00m\u001b[43m)\u001b[49m\n",
      "\u001b[0;31mKeyboardInterrupt\u001b[0m: "
     ]
    }
   ],
   "source": [
    "log.info(\"*** Supervised training on icsup\")\n",
    "cross_entropy_loss = lambda model: model_cross_entropy(model, icsup)\n",
    "crf_backprop.train(corpus=icsup, loss=cross_entropy_loss, lr=0.1, tolerance=0.0001, save_path=\"ic_crf_backprop.pkl\")\n",
    "log.info(\"*** A, B matrices after training on icsup\")\n",
    "crf_backprop.printAB()"
   ]
  },
  {
   "cell_type": "code",
   "execution_count": 12,
   "metadata": {},
   "outputs": [
    {
     "name": "stderr",
     "output_type": "stream",
     "text": [
      "INFO:test_ic:*** Hidden Markov Model (HMM) test\n",
      "\n",
      "INFO:test_ic:*** Current A, B matrices (using initalizations from the ice cream spreadsheet)\n"
     ]
    },
    {
     "name": "stdout",
     "output_type": "stream",
     "text": [
      "Transition matrix A:\n",
      "\tC\tH\t_EOS_TAG_\t_BOS_TAG_\n",
      "C\t0.800\t0.100\t0.100\t0.000\n",
      "H\t0.100\t0.800\t0.100\t0.000\n",
      "_EOS_TAG_\t0.000\t0.000\t0.000\t0.000\n",
      "_BOS_TAG_\t0.500\t0.500\t0.000\t0.000\n",
      "\n",
      "Emission matrix B:\n",
      "\t1\t2\t3\n",
      "C\t0.700\t0.200\t0.100\n",
      "H\t0.100\t0.200\t0.700\n",
      "_EOS_TAG_\t0.000\t0.000\t0.000\n",
      "_BOS_TAG_\t0.000\t0.000\t0.000\n",
      "\n",
      "\n"
     ]
    }
   ],
   "source": [
    "log.info(\"*** Hidden Markov Model (HMM) test\\n\")\n",
    "hmm = HiddenMarkovModel(icsup.tagset, icsup.vocab)\n",
    "# Change the transition/emission initial probabilities to match the ice cream spreadsheet,\n",
    "# and test your implementation of the Viterbi algorithm.  Note that the spreadsheet \n",
    "# uses transposed versions of these matrices.\n",
    "hmm.B = tensor([[0.7000, 0.2000, 0.1000],    # emission probabilities\n",
    "                [0.1000, 0.2000, 0.7000],\n",
    "                [0.0000, 0.0000, 0.0000],\n",
    "                [0.0000, 0.0000, 0.0000]])\n",
    "hmm.A = tensor([[0.8000, 0.1000, 0.1000, 0.0000],   # transition probabilities\n",
    "                [0.1000, 0.8000, 0.1000, 0.0000],\n",
    "                [0.0000, 0.0000, 0.0000, 0.0000],\n",
    "                [0.5000, 0.5000, 0.0000, 0.0000]])\n",
    "log.info(\"*** Current A, B matrices (using initalizations from the ice cream spreadsheet)\")\n",
    "hmm.printAB()"
   ]
  },
  {
   "cell_type": "markdown",
   "metadata": {},
   "source": [
    "Try it out on the raw data from the spreadsheet, available in `icraw``."
   ]
  },
  {
   "cell_type": "code",
   "execution_count": 13,
   "metadata": {},
   "outputs": [
    {
     "name": "stderr",
     "output_type": "stream",
     "text": [
      "INFO:test_ic:*** Viterbi results on icraw with hard coded parameters\n",
      "100%|██████████| 1/1 [00:00<00:00, 18.53it/s]"
     ]
    },
    {
     "name": "stdout",
     "output_type": "stream",
     "text": [
      "2/H 3/H 3/H 2/H 3/H 2/H 3/H 2/H 2/H 3/H 1/H 3/H 3/H 1/C 1/C 1/C 2/C 1/C 1/C 1/C 3/C 1/C 2/C 1/C 1/C 1/C 2/C 3/H 3/H 2/H 3/H 2/H 2/H\n"
     ]
    },
    {
     "name": "stderr",
     "output_type": "stream",
     "text": [
      "\n"
     ]
    },
    {
     "data": {
      "text/plain": [
       "0"
      ]
     },
     "execution_count": 13,
     "metadata": {},
     "output_type": "execute_result"
    }
   ],
   "source": [
    "log.info(\"*** Viterbi results on icraw with hard coded parameters\")\n",
    "icraw = TaggedCorpus(Path(\"icraw\"), tagset=icsup.tagset, vocab=icsup.vocab)\n",
    "write_tagging(hmm, icraw, Path(\"icraw_hmm.output\"))  # calls hmm.viterbi_tagging on each sentence\n",
    "os.system(\"cat icraw_hmm.output\")   # print the file we just created, and remove it"
   ]
  },
  {
   "cell_type": "markdown",
   "metadata": {},
   "source": [
    "Did the parameters that we guessed above get the \"correct\" answer, \n",
    "as revealed in `icdev`?"
   ]
  },
  {
   "cell_type": "code",
   "execution_count": 14,
   "metadata": {},
   "outputs": [
    {
     "name": "stderr",
     "output_type": "stream",
     "text": [
      "INFO:test_ic:*** Compare to icdev corpus:\n",
      "2/H 3/H 3/H 2/H 3/H 2/H 3/H 2/H 2/H 3/H 1/C 3/C 3/C 1/C 1/C 1/C 2/C 1/C 1/C 1/C 3/C 1/C 2/C 1/C 1/C 1/C 2/H 3/H 3/H 2/H 3/H 2/H 2/H\n",
      "100%|██████████| 1/1 [00:00<00:00, 20.17it/s]\n",
      "INFO:eval:Tagging accuracy: all: 87.879%, seen: 87.879%, novel: nan%\n"
     ]
    },
    {
     "data": {
      "text/plain": [
       "0.12121212121212122"
      ]
     },
     "execution_count": 14,
     "metadata": {},
     "output_type": "execute_result"
    }
   ],
   "source": [
    "icdev = TaggedCorpus(Path(\"icdev\"), tagset=icsup.tagset, vocab=icsup.vocab)\n",
    "log.info(f\"*** Compare to icdev corpus:\\n{icdev}\")\n",
    "from eval import viterbi_error_rate\n",
    "viterbi_error_rate(hmm, icdev, show_cross_entropy=False)"
   ]
  },
  {
   "cell_type": "markdown",
   "metadata": {},
   "source": [
    "Now let's try your training code, running it on supervised data.\n",
    "To test this, we'll restart from a random initialization.\n",
    "(You could also try creating this new model with `unigram=true`, \n",
    "which will affect the rest of the notebook.)"
   ]
  },
  {
   "cell_type": "code",
   "execution_count": 15,
   "metadata": {},
   "outputs": [
    {
     "name": "stderr",
     "output_type": "stream",
     "text": [
      "INFO:test_ic:*** A, B matrices as randomly initialized close to uniform\n"
     ]
    },
    {
     "name": "stdout",
     "output_type": "stream",
     "text": [
      "Transition matrix A:\n",
      "\tC\tH\t_EOS_TAG_\t_BOS_TAG_\n",
      "C\t0.334\t0.333\t0.332\t0.000\n",
      "H\t0.333\t0.335\t0.333\t0.000\n",
      "_EOS_TAG_\t0.334\t0.332\t0.333\t0.000\n",
      "_BOS_TAG_\t0.334\t0.333\t0.333\t0.000\n",
      "\n",
      "Emission matrix B:\n",
      "\t1\t2\t3\n",
      "C\t0.333\t0.335\t0.333\n",
      "H\t0.334\t0.333\t0.332\n",
      "_EOS_TAG_\t0.000\t0.000\t0.000\n",
      "_BOS_TAG_\t0.000\t0.000\t0.000\n",
      "\n",
      "\n"
     ]
    }
   ],
   "source": [
    "hmm = HiddenMarkovModel(icsup.tagset, icsup.vocab)\n",
    "log.info(\"*** A, B matrices as randomly initialized close to uniform\")\n",
    "hmm.printAB()"
   ]
  },
  {
   "cell_type": "code",
   "execution_count": 16,
   "metadata": {},
   "outputs": [
    {
     "name": "stderr",
     "output_type": "stream",
     "text": [
      "INFO:test_ic:*** Supervised training on icsup\n",
      "100%|██████████| 4/4 [00:00<00:00, 103.95it/s]\n",
      "INFO:eval:Cross-entropy: 2.0961 nats (= perplexity 8.134)\n",
      "100%|██████████| 4/4 [00:00<00:00, 89.79it/s]\n",
      "100%|██████████| 4/4 [00:00<00:00, 221.96it/s]\n",
      "INFO:eval:Cross-entropy: 1.3729 nats (= perplexity 3.947)\n",
      "100%|██████████| 4/4 [00:00<00:00, 97.01it/s]\n",
      "100%|██████████| 4/4 [00:00<00:00, 162.87it/s]\n",
      "INFO:eval:Cross-entropy: 1.3729 nats (= perplexity 3.947)\n",
      "INFO:hmm:Saved model to ic_hmm.pkl\n",
      "INFO:test_ic:*** A, B matrices after training on icsup (should match initial params on spreadsheet [transposed])\n"
     ]
    },
    {
     "name": "stdout",
     "output_type": "stream",
     "text": [
      "Transition matrix A:\n",
      "\tC\tH\t_EOS_TAG_\t_BOS_TAG_\n",
      "C\t0.800\t0.100\t0.100\t0.000\n",
      "H\t0.100\t0.800\t0.100\t0.000\n",
      "_EOS_TAG_\t0.000\t0.000\t0.000\t0.000\n",
      "_BOS_TAG_\t0.500\t0.500\t0.000\t0.000\n",
      "\n",
      "Emission matrix B:\n",
      "\t1\t2\t3\n",
      "C\t0.700\t0.200\t0.100\n",
      "H\t0.100\t0.200\t0.700\n",
      "_EOS_TAG_\t0.000\t0.000\t0.000\n",
      "_BOS_TAG_\t0.000\t0.000\t0.000\n",
      "\n",
      "\n"
     ]
    }
   ],
   "source": [
    "log.info(\"*** Supervised training on icsup\")\n",
    "cross_entropy_loss = lambda model: model_cross_entropy(model, icsup)\n",
    "hmm.train(corpus=icsup, loss=cross_entropy_loss, tolerance=0.0001, save_path=\"ic_hmm.pkl\")\n",
    "log.info(\"*** A, B matrices after training on icsup (should \"\n",
    "         \"match initial params on spreadsheet [transposed])\")\n",
    "hmm.printAB()"
   ]
  },
  {
   "cell_type": "markdown",
   "metadata": {},
   "source": [
    "Now that we've reached the spreadsheet's starting guess, let's again tag\n",
    "the spreadsheet \"sentence\" (that is, the sequence of ice creams) using the\n",
    "Viterbi algorithm."
   ]
  },
  {
   "cell_type": "code",
   "execution_count": 17,
   "metadata": {},
   "outputs": [
    {
     "name": "stderr",
     "output_type": "stream",
     "text": [
      "INFO:test_ic:*** Viterbi results on icraw\n",
      "100%|██████████| 1/1 [00:00<00:00, 29.97it/s]"
     ]
    },
    {
     "name": "stdout",
     "output_type": "stream",
     "text": [
      "2/H 3/H 3/H 2/H 3/H 2/H 3/H 2/H 2/H 3/H 1/H 3/H 3/H 1/C 1/C 1/C 2/C 1/C 1/C 1/C 3/C 1/C 2/C 1/C 1/C 1/C 2/H 3/H 3/H 2/H 3/H 2/H 2/H\n"
     ]
    },
    {
     "name": "stderr",
     "output_type": "stream",
     "text": [
      "\n"
     ]
    },
    {
     "data": {
      "text/plain": [
       "0"
      ]
     },
     "execution_count": 17,
     "metadata": {},
     "output_type": "execute_result"
    }
   ],
   "source": [
    "log.info(\"*** Viterbi results on icraw\")\n",
    "icraw = TaggedCorpus(Path(\"icraw\"), tagset=icsup.tagset, vocab=icsup.vocab)\n",
    "write_tagging(hmm, icraw, Path(\"icraw_hmm.output\"))  # calls hmm.viterbi_tagging on each sentence\n",
    "os.system(\"cat icraw_hmm.output\")   # print the file we just created, and remove it"
   ]
  },
  {
   "cell_type": "markdown",
   "metadata": {},
   "source": [
    "Next let's use the forward algorithm to see what the model thinks about \n",
    "the probability of the spreadsheet \"sentence.\""
   ]
  },
  {
   "cell_type": "code",
   "execution_count": 18,
   "metadata": {},
   "outputs": [
    {
     "name": "stderr",
     "output_type": "stream",
     "text": [
      "INFO:test_ic:*** Forward algorithm on icraw (should approximately match iteration 0 on spreadsheet)\n",
      "INFO:test_ic:9.12758979993639e-19 = p(2 3 3 2 3 2 3 2 2 3 1 3 3 1 1 1 2 1 1 1 3 1 2 1 1 1 2 3 3 2 3 2 2)\n"
     ]
    }
   ],
   "source": [
    "log.info(\"*** Forward algorithm on icraw (should approximately match iteration 0 \"\n",
    "             \"on spreadsheet)\")\n",
    "for sentence in icraw:\n",
    "    prob = math.exp(hmm.logprob(sentence, icraw))\n",
    "    log.info(f\"{prob} = p({sentence})\")"
   ]
  },
  {
   "cell_type": "markdown",
   "metadata": {},
   "source": [
    "Finally, let's reestimate on the icraw data, as the spreadsheet does.\n",
    "We'll evaluate as we go along on the *training* perplexity, and stop\n",
    "when that has more or less converged."
   ]
  },
  {
   "cell_type": "code",
   "execution_count": 19,
   "metadata": {},
   "outputs": [
    {
     "name": "stderr",
     "output_type": "stream",
     "text": [
      "INFO:test_ic:*** Reestimating on icraw (perplexity should improve on every iteration)\n",
      "100%|██████████| 1/1 [00:00<00:00, 26.75it/s]\n",
      "INFO:eval:Cross-entropy: 1.2217 nats (= perplexity 3.393)\n",
      "100%|██████████| 1/1 [00:00<00:00, 12.84it/s]\n",
      "100%|██████████| 1/1 [00:00<00:00, 27.39it/s]\n",
      "INFO:eval:Cross-entropy: 1.0807 nats (= perplexity 2.947)\n",
      "100%|██████████| 1/1 [00:00<00:00, 12.84it/s]\n",
      "100%|██████████| 1/1 [00:00<00:00, 27.34it/s]\n",
      "INFO:eval:Cross-entropy: 1.0576 nats (= perplexity 2.879)\n",
      "100%|██████████| 1/1 [00:00<00:00, 12.92it/s]\n",
      "100%|██████████| 1/1 [00:00<00:00, 27.44it/s]\n",
      "INFO:eval:Cross-entropy: 1.0486 nats (= perplexity 2.854)\n",
      "100%|██████████| 1/1 [00:00<00:00, 12.40it/s]\n",
      "100%|██████████| 1/1 [00:00<00:00, 28.45it/s]\n",
      "INFO:eval:Cross-entropy: 1.0438 nats (= perplexity 2.840)\n",
      "100%|██████████| 1/1 [00:00<00:00, 13.45it/s]\n",
      "100%|██████████| 1/1 [00:00<00:00, 29.04it/s]\n",
      "INFO:eval:Cross-entropy: 1.0414 nats (= perplexity 2.833)\n",
      "100%|██████████| 1/1 [00:00<00:00, 13.76it/s]\n",
      "100%|██████████| 1/1 [00:00<00:00, 28.88it/s]\n",
      "INFO:eval:Cross-entropy: 1.0402 nats (= perplexity 2.830)\n",
      "100%|██████████| 1/1 [00:00<00:00, 13.70it/s]\n",
      "100%|██████████| 1/1 [00:00<00:00, 28.72it/s]\n",
      "INFO:eval:Cross-entropy: 1.0396 nats (= perplexity 2.828)\n",
      "100%|██████████| 1/1 [00:00<00:00, 13.80it/s]\n",
      "100%|██████████| 1/1 [00:00<00:00, 29.27it/s]\n",
      "INFO:eval:Cross-entropy: 1.0394 nats (= perplexity 2.828)\n",
      "100%|██████████| 1/1 [00:00<00:00, 13.78it/s]\n",
      "100%|██████████| 1/1 [00:00<00:00, 29.20it/s]\n",
      "INFO:eval:Cross-entropy: 1.0393 nats (= perplexity 2.827)\n",
      "100%|██████████| 1/1 [00:00<00:00, 13.66it/s]\n",
      "100%|██████████| 1/1 [00:00<00:00, 28.57it/s]\n",
      "INFO:eval:Cross-entropy: 1.0392 nats (= perplexity 2.827)\n",
      "INFO:hmm:Saved model to ic_hmm_raw.pkl\n"
     ]
    }
   ],
   "source": [
    "log.info(\"*** Reestimating on icraw (perplexity should improve on every iteration)\")\n",
    "negative_log_likelihood = lambda model: model_cross_entropy(model, icraw)  # evaluate on icraw itself\n",
    "hmm.train(corpus=icraw, loss=negative_log_likelihood, tolerance=0.0001, save_path=\"ic_hmm_raw.pkl\")"
   ]
  },
  {
   "cell_type": "code",
   "execution_count": 20,
   "metadata": {},
   "outputs": [
    {
     "name": "stderr",
     "output_type": "stream",
     "text": [
      "INFO:test_ic:*** A, B matrices after reestimation on icrawshould match final params on spreadsheet [transposed])\n"
     ]
    },
    {
     "name": "stdout",
     "output_type": "stream",
     "text": [
      "Transition matrix A:\n",
      "\tC\tH\t_EOS_TAG_\t_BOS_TAG_\n",
      "C\t0.934\t0.066\t0.000\t0.000\n",
      "H\t0.072\t0.865\t0.063\t0.000\n",
      "_EOS_TAG_\t0.000\t0.000\t0.000\t0.000\n",
      "_BOS_TAG_\t0.000\t1.000\t0.000\t0.000\n",
      "\n",
      "Emission matrix B:\n",
      "\t1\t2\t3\n",
      "C\t0.641\t0.148\t0.211\n",
      "H\t0.000\t0.534\t0.466\n",
      "_EOS_TAG_\t0.000\t0.000\t0.000\n",
      "_BOS_TAG_\t0.000\t0.000\t0.000\n",
      "\n",
      "\n"
     ]
    }
   ],
   "source": [
    "log.info(\"*** A, B matrices after reestimation on icraw\"\n",
    "         \"should match final params on spreadsheet [transposed])\")\n",
    "hmm.printAB()"
   ]
  },
  {
   "cell_type": "markdown",
   "metadata": {},
   "source": [
    "Now let's try out a randomly initialized CRF on the ice cream data. Notice how\n",
    "the initialized A and B matrices now hold non-negative potentials,\n",
    "rather than probabilities that sum to 1."
   ]
  },
  {
   "cell_type": "code",
   "execution_count": null,
   "metadata": {},
   "outputs": [],
   "source": [
    "log.info(\"*** Conditional Random Field (CRF) test\\n\")\n",
    "crf = ConditionalRandomField(icsup.tagset, icsup.vocab)\n",
    "log.info(\"*** Current A, B matrices (potentials from small random parameters)\")\n",
    "crf.printAB()"
   ]
  },
  {
   "cell_type": "markdown",
   "metadata": {},
   "source": [
    "Now let's try your training code, running it on supervised data. To test this,\n",
    "we'll restart from a random initialization. \n",
    "\n",
    "Note that the logger reports the CRF's *conditional* cross-entropy, \n",
    "log p(tags | words) / n.  This is much lower than the HMM's *joint* \n",
    "cross-entropy log p(tags, words) / n, but that doesn't mean the CRF\n",
    "is worse at tagging.  The CRF is just predicting less information."
   ]
  },
  {
   "cell_type": "code",
   "execution_count": null,
   "metadata": {},
   "outputs": [],
   "source": [
    "log.info(\"*** Supervised training on icsup\")\n",
    "cross_entropy_loss = lambda model: model_cross_entropy(model, icsup)\n",
    "crf.train(corpus=icsup, loss=cross_entropy_loss, lr=0.1, tolerance=0.0001, save_path=\"ic_crf.pkl\")\n",
    "log.info(\"*** A, B matrices after training on icsup\")\n",
    "crf.printAB()"
   ]
  },
  {
   "cell_type": "markdown",
   "metadata": {},
   "source": [
    "Let's again tag the spreadsheet \"sentence\" (that is, the sequence of ice creams) \n",
    "using the Viterbi algorithm (this may not match the HMM)."
   ]
  },
  {
   "cell_type": "code",
   "execution_count": null,
   "metadata": {},
   "outputs": [],
   "source": [
    "log.info(\"*** Viterbi results on icraw with trained parameters\")\n",
    "icraw = TaggedCorpus(Path(\"icraw\"), tagset=icsup.tagset, vocab=icsup.vocab)\n",
    "write_tagging(hmm, icraw, Path(\"icraw_crf.output\"))  # calls hmm.viterbi_tagging on each sentence\n",
    "os.system(\"cat icraw_crf.output\")   # print the file we just created, and remove it"
   ]
  }
 ],
 "metadata": {
  "kernelspec": {
   "display_name": "nlp-class",
   "language": "python",
   "name": "python3"
  },
  "language_info": {
   "codemirror_mode": {
    "name": "ipython",
    "version": 3
   },
   "file_extension": ".py",
   "mimetype": "text/x-python",
   "name": "python",
   "nbconvert_exporter": "python",
   "pygments_lexer": "ipython3",
   "version": "3.9.13"
  }
 },
 "nbformat": 4,
 "nbformat_minor": 2
}
